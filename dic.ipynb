{
 "cells": [
  {
   "cell_type": "code",
   "execution_count": 1,
   "metadata": {},
   "outputs": [],
   "source": [
    "import json\n",
    "data = json.load(open(\"data.json\"))\n",
    "from difflib import get_close_matches"
   ]
  },
  {
   "cell_type": "code",
   "execution_count": null,
   "metadata": {},
   "outputs": [],
   "source": [
    "def meaning(w):\n",
    "    w = w.lower()\n",
    "    if w in data:   \n",
    "        return data[w]\n",
    "    elif len(get_close_matches(w, data.keys()))>0:\n",
    "        choice = input(\"Did you mean %s instead?, Press Y for yes otherwise N for no\" % get_close_matches(w, data.keys())[0])\n",
    "        if choice == \"Y\":\n",
    "            return data[get_close_matches(w, data.keys())[0]]\n",
    "        elif choice == \"N\":\n",
    "            print(\"word doesn't exist. Please crosscheck it.\")\n",
    "        else:\n",
    "            print(\"Please enter a valid keyword\")\n",
    "    else:\n",
    "        print(\"word doesn't exist. Please crosscheck it.\")\n",
    "\n",
    "word = input(\"Enter Word:\")\n",
    "output = (meaning(word))\n",
    "\n",
    "if type(output) == list:\n",
    "    for item in output:\n",
    "        print(item)\n",
    "else:\n",
    "    print(output)\n"
   ]
  },
  {
   "cell_type": "code",
   "execution_count": 1,
   "metadata": {},
   "outputs": [
    {
     "ename": "NameError",
     "evalue": "name 'forget' is not defined",
     "output_type": "error",
     "traceback": [
      "\u001b[1;31m---------------------------------------------------------------------------\u001b[0m",
      "\u001b[1;31mNameError\u001b[0m                                 Traceback (most recent call last)",
      "\u001b[1;32m<ipython-input-1-f63adfe51510>\u001b[0m in \u001b[0;36m<module>\u001b[1;34m\u001b[0m\n\u001b[1;32m----> 1\u001b[1;33m \u001b[0mforget\u001b[0m\u001b[1;33m\u001b[0m\u001b[1;33m\u001b[0m\u001b[0m\n\u001b[0m",
      "\u001b[1;31mNameError\u001b[0m: name 'forget' is not defined"
     ]
    }
   ],
   "source": [
    "forget"
   ]
  }
 ],
 "metadata": {
  "kernelspec": {
   "display_name": "Python 3",
   "language": "python",
   "name": "python3"
  },
  "language_info": {
   "codemirror_mode": {
    "name": "ipython",
    "version": 3
   },
   "file_extension": ".py",
   "mimetype": "text/x-python",
   "name": "python",
   "nbconvert_exporter": "python",
   "pygments_lexer": "ipython3",
   "version": "3.7.3"
  }
 },
 "nbformat": 4,
 "nbformat_minor": 2
}
